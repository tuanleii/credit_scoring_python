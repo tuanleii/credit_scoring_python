{
 "cells": [
  {
   "cell_type": "markdown",
   "id": "3dbb7f80-85e0-4db2-ae98-676c784645de",
   "metadata": {
    "tags": []
   },
   "source": [
    "# Probability of default: credit scoring model"
   ]
  },
  {
   "cell_type": "markdown",
   "id": "1b537227-0c91-4670-a9be-b497a5c68647",
   "metadata": {},
   "source": [
    "This model uses a Kaggle dataset containing data about credit repayment difficulty rates among customers.\n",
    "\n",
    "**Kaggle description:**\n",
    "\n",
    "Improve on the state of the art in credit scoring by predicting the probability that somebody will experience financial distress in the next two years. \n",
    "\n",
    "Banks play a crucial role in market economies. They decide who can get finance and on what terms and can make or break investment decisions. For markets and society to function, individuals and companies need access to credit. \n",
    "\n",
    "Credit scoring algorithms, which make a guess at the probability of default, are the method banks use to determine whether or not a loan should be granted. This competition requires participants to improve on the state of the art in credit scoring, by predicting the probability that somebody will experience financial distress in the next two years.\n",
    "\n",
    "The goal of this competition is to build a model that borrowers can use to help make the best financial decisions.\n",
    "\n",
    "Historical data are provided on 250,000 borrowers.\n",
    "\n",
    "---\n",
    "\n",
    "The variables are the following:\n",
    "\n",
    "**SeriousDlqin2yrs** Person experienced 90 days past due delinquency or worse (Target variable / label)\n",
    "\n",
    "**RevolvingUtilizationOfUnsecuredLines**: Total balance on credit cards and personal lines of credit except real estate and no installment debt like car loans divided by the sum of credit limits\n",
    "\n",
    "**age** Age of borrower in years\n",
    "\n",
    "**NumberOfTime30-59DaysPastDueNotWorse**: Number of times borrower has been 30-59 days past due but no worse in the last 2 years.\n",
    "\n",
    "**DebtRatio**: Monthly debt payments, alimony,living costs divided by monthy gross income\n",
    "\n",
    "**MonthlyIncome**: Monthly income\n",
    "\n",
    "**NumberOfOpenCreditLinesAndLoans**: Number of Open loans (installment like car loan or mortgage) and Lines of credit (e.g. credit cards)\n",
    "\n",
    "**NumberOfTimes90DaysLate**: Number of times borrower has been 90 days or more past due.\n",
    "\n",
    "**NumberRealEstateLoansOrLines**: Number of mortgage and real estate loans including home equity lines of credit\n",
    "\n",
    "**NumberOfTime60-89DaysPastDueNotWorse**: Number of times borrower has been 60-89 days past due but no worse in the last 2 years.\n",
    "\n",
    "**NumberOfDependents**: Number of dependents in family excluding themselves (spouse, children etc.)\n",
    "\n",
    "---\n",
    "\n",
    "We will be using a random forest classifier for two reasons: firstly, because it would allow us to quickly and easily change the output to a simple binary classification problem. Secondly, because the predict_proba functionality allows us to output a probability score (probability of 1), this score is what we will use for predicting the probability of 90 days past due delinquency or worse in 2 years time.\n",
    "\n",
    "---\n",
    "\n",
    "Furthermore, we will predominantly be adopting a quantiles based approach in order to streamline the process as much as possible so that hypothetical credit checks can be returned as easily and as quickly as possible.\n"
   ]
  },
  {
   "cell_type": "code",
   "execution_count": 1,
   "id": "286392fc-6526-450b-90c8-8bbedbf40870",
   "metadata": {},
   "outputs": [],
   "source": [
    "import numpy as np\n",
    "import pandas as pd\n",
    "import matplotlib.pyplot as plt\n",
    "import seaborn as sns\n",
    "from sklearn.ensemble import RandomForestClassifier, GradientBoostingClassifier, AdaBoostClassifier, StackingClassifier\n",
    "from sklearn.linear_model import LogisticRegression\n",
    "from sklearn.neighbors import KNeighborsClassifier\n",
    "from sklearn.naive_bayes import BernoulliNB\n",
    "from sklearn.metrics import confusion_matrix, classification_report\n",
    "from sklearn.model_selection import train_test_split"
   ]
  },
  {
   "cell_type": "code",
   "execution_count": 2,
   "id": "2b989581-d04a-4d42-9df9-8abed46b86b4",
   "metadata": {},
   "outputs": [
    {
     "data": {
      "text/html": [
       "<div>\n",
       "<style scoped>\n",
       "    .dataframe tbody tr th:only-of-type {\n",
       "        vertical-align: middle;\n",
       "    }\n",
       "\n",
       "    .dataframe tbody tr th {\n",
       "        vertical-align: top;\n",
       "    }\n",
       "\n",
       "    .dataframe thead th {\n",
       "        text-align: right;\n",
       "    }\n",
       "</style>\n",
       "<table border=\"1\" class=\"dataframe\">\n",
       "  <thead>\n",
       "    <tr style=\"text-align: right;\">\n",
       "      <th></th>\n",
       "      <th>SeriousDlqin2yrs</th>\n",
       "      <th>RevolvingUtilizationOfUnsecuredLines</th>\n",
       "      <th>age</th>\n",
       "      <th>NumberOfTime30-59DaysPastDueNotWorse</th>\n",
       "      <th>DebtRatio</th>\n",
       "      <th>MonthlyIncome</th>\n",
       "      <th>NumberOfOpenCreditLinesAndLoans</th>\n",
       "      <th>NumberOfTimes90DaysLate</th>\n",
       "      <th>NumberRealEstateLoansOrLines</th>\n",
       "      <th>NumberOfTime60-89DaysPastDueNotWorse</th>\n",
       "      <th>NumberOfDependents</th>\n",
       "    </tr>\n",
       "  </thead>\n",
       "  <tbody>\n",
       "    <tr>\n",
       "      <th>1</th>\n",
       "      <td>1</td>\n",
       "      <td>0.766127</td>\n",
       "      <td>45</td>\n",
       "      <td>2</td>\n",
       "      <td>0.802982</td>\n",
       "      <td>9120.0</td>\n",
       "      <td>13</td>\n",
       "      <td>0</td>\n",
       "      <td>6</td>\n",
       "      <td>0</td>\n",
       "      <td>2.0</td>\n",
       "    </tr>\n",
       "    <tr>\n",
       "      <th>2</th>\n",
       "      <td>0</td>\n",
       "      <td>0.957151</td>\n",
       "      <td>40</td>\n",
       "      <td>0</td>\n",
       "      <td>0.121876</td>\n",
       "      <td>2600.0</td>\n",
       "      <td>4</td>\n",
       "      <td>0</td>\n",
       "      <td>0</td>\n",
       "      <td>0</td>\n",
       "      <td>1.0</td>\n",
       "    </tr>\n",
       "  </tbody>\n",
       "</table>\n",
       "</div>"
      ],
      "text/plain": [
       "   SeriousDlqin2yrs  RevolvingUtilizationOfUnsecuredLines  age  \\\n",
       "1                 1                              0.766127   45   \n",
       "2                 0                              0.957151   40   \n",
       "\n",
       "   NumberOfTime30-59DaysPastDueNotWorse  DebtRatio  MonthlyIncome  \\\n",
       "1                                     2   0.802982         9120.0   \n",
       "2                                     0   0.121876         2600.0   \n",
       "\n",
       "   NumberOfOpenCreditLinesAndLoans  NumberOfTimes90DaysLate  \\\n",
       "1                               13                        0   \n",
       "2                                4                        0   \n",
       "\n",
       "   NumberRealEstateLoansOrLines  NumberOfTime60-89DaysPastDueNotWorse  \\\n",
       "1                             6                                     0   \n",
       "2                             0                                     0   \n",
       "\n",
       "   NumberOfDependents  \n",
       "1                 2.0  \n",
       "2                 1.0  "
      ]
     },
     "execution_count": 2,
     "metadata": {},
     "output_type": "execute_result"
    }
   ],
   "source": [
    "df = pd.read_csv('cs-training.csv',index_col=0)\n",
    "df.head(2)"
   ]
  },
  {
   "cell_type": "markdown",
   "id": "eba81eb2-5f2d-449f-b2c0-4dbd251779c3",
   "metadata": {},
   "source": [
    "___"
   ]
  },
  {
   "cell_type": "markdown",
   "id": "d12f141b-f839-419c-a691-6d85d6f78e73",
   "metadata": {},
   "source": [
    "# 1. Preprocessing Data (Tiền xử lý dữ liệu)"
   ]
  },
  {
   "cell_type": "markdown",
   "id": "c420bf4d-f5e5-4638-9497-3d13068e0aa9",
   "metadata": {},
   "source": [
    "**Bước 1. Kiểm tra dữ liệu bị missing value**"
   ]
  },
  {
   "cell_type": "code",
   "execution_count": 3,
   "id": "c01fe18c-57f5-4830-a04c-ae3a348cad01",
   "metadata": {},
   "outputs": [
    {
     "data": {
      "text/plain": [
       "SeriousDlqin2yrs                            0\n",
       "RevolvingUtilizationOfUnsecuredLines        0\n",
       "age                                         0\n",
       "NumberOfTime30-59DaysPastDueNotWorse        0\n",
       "DebtRatio                                   0\n",
       "MonthlyIncome                           29731\n",
       "NumberOfOpenCreditLinesAndLoans             0\n",
       "NumberOfTimes90DaysLate                     0\n",
       "NumberRealEstateLoansOrLines                0\n",
       "NumberOfTime60-89DaysPastDueNotWorse        0\n",
       "NumberOfDependents                       3924\n",
       "dtype: int64"
      ]
     },
     "execution_count": 3,
     "metadata": {},
     "output_type": "execute_result"
    }
   ],
   "source": [
    "df.isna().sum()"
   ]
  },
  {
   "cell_type": "markdown",
   "id": "45f86384-4223-4bfe-9422-6cc93272b109",
   "metadata": {},
   "source": [
    "**Bước 2. Kiểm tra phân bổ của các trường bị missing**\n",
    "\n",
    "Cần phải lưu ý rằng sau khi xử lý các trường dữ liệu bị missing value (có thể là thêm vào giá trị mới, xóa bỏ,...) thì BẮT BUỘC các trường đó phải có phân bổ dữ liệu như ban đầu. Việc này nhằm đảm bảo tính toàn vẹn, không thiên vị của bộ dữ liệu."
   ]
  },
  {
   "cell_type": "code",
   "execution_count": 4,
   "id": "37c75a9c-2c99-4459-89e4-0ca3ac22664c",
   "metadata": {},
   "outputs": [
    {
     "data": {
      "image/png": "[encoded data removed]",
      "text/plain": [
       "<Figure size 1080x360 with 2 Axes>"
      ]
     },
     "metadata": {
      "needs_background": "light"
     },
     "output_type": "display_data"
    }
   ],
   "source": [
    "fig, axes = plt.subplots(1,2, figsize = (15,5))\n",
    "\n",
    "df['MonthlyIncome'].plot(kind='hist',ax=axes[0],xlabel='MonthlyIncome')\n",
    "df['NumberOfDependents'].plot(kind='hist',ax=axes[1],xlabel='NumberOfDependents')\n",
    "plt.show()"
   ]
  },
  {
   "cell_type": "markdown",
   "id": "decc3e1e-339c-4b18-bd96-764bffb2ae30",
   "metadata": {},
   "source": [
    "**Bước 3. Fill các trường bị missing value**"
   ]
  },
  {
   "cell_type": "code",
   "execution_count": 5,
   "id": "68fc7f10-d50e-44e4-9df0-c28ef2a0acd9",
   "metadata": {},
   "outputs": [],
   "source": [
    "df['MonthlyIncome'] = df.MonthlyIncome.fillna(df.MonthlyIncome.median())\n",
    "df['NumberOfDependents'] = df.NumberOfDependents.fillna(df.NumberOfDependents.median())"
   ]
  },
  {
   "cell_type": "markdown",
   "id": "849a7a65-df69-4b23-b5c0-307835cfcf55",
   "metadata": {},
   "source": [
    "Sau khi fillna, chúng ta cần kiểm tra lại bộ dữ liệu xem còn missing value nữa hay không."
   ]
  },
  {
   "cell_type": "code",
   "execution_count": 6,
   "id": "ad459ff6-b77f-4df7-a347-8960c16092c7",
   "metadata": {},
   "outputs": [
    {
     "data": {
      "text/plain": [
       "SeriousDlqin2yrs                        0\n",
       "RevolvingUtilizationOfUnsecuredLines    0\n",
       "age                                     0\n",
       "NumberOfTime30-59DaysPastDueNotWorse    0\n",
       "DebtRatio                               0\n",
       "MonthlyIncome                           0\n",
       "NumberOfOpenCreditLinesAndLoans         0\n",
       "NumberOfTimes90DaysLate                 0\n",
       "NumberRealEstateLoansOrLines            0\n",
       "NumberOfTime60-89DaysPastDueNotWorse    0\n",
       "NumberOfDependents                      0\n",
       "dtype: int64"
      ]
     },
     "execution_count": 6,
     "metadata": {},
     "output_type": "execute_result"
    }
   ],
   "source": [
    "df.isna().sum()"
   ]
  },
  {
   "cell_type": "markdown",
   "id": "6586a60f-07d4-49dd-9bcf-1ef92c3a4e95",
   "metadata": {},
   "source": [
    "Như vậy không còn trường dữ liệu nào bị missing value nữa"
   ]
  },
  {
   "cell_type": "markdown",
   "id": "f103ef5f-22d5-4d7c-97db-2451bf05f635",
   "metadata": {},
   "source": [
    "**Bước 4. Kiểm tra lại phân bổ của các trường vừa fill dữ liệu vào**"
   ]
  },
  {
   "cell_type": "code",
   "execution_count": 7,
   "id": "9fe069a0-bd86-4ecd-913c-b0334f85cf11",
   "metadata": {},
   "outputs": [
    {
     "data": {
      "image/png": "[encoded data removed]",
      "text/plain": [
       "<Figure size 1080x360 with 2 Axes>"
      ]
     },
     "metadata": {
      "needs_background": "light"
     },
     "output_type": "display_data"
    }
   ],
   "source": [
    "fig, axes = plt.subplots(1,2, figsize = (15,5))\n",
    "\n",
    "df['MonthlyIncome'].plot(kind='hist',ax=axes[0],xlabel='MonthlyIncome')\n",
    "df['NumberOfDependents'].plot(kind='hist',ax=axes[1],xlabel='NumberOfDependents')\n",
    "plt.show()"
   ]
  },
  {
   "cell_type": "markdown",
   "id": "70e0615c-f363-4799-910c-2f3055192ef4",
   "metadata": {},
   "source": [
    "Như vậy, phân bổ dữ liệu không có sự thay đổi."
   ]
  },
  {
   "cell_type": "markdown",
   "id": "3b00bde2-d944-4161-9194-2e4bf7ff5d53",
   "metadata": {},
   "source": [
    "**Bước 5. Kiểm tra các dữ liệu bị trùng lắp và loại bỏ nếu có**"
   ]
  },
  {
   "cell_type": "code",
   "execution_count": 8,
   "id": "b199153b-6ac4-4454-b44e-5ae71e55584b",
   "metadata": {},
   "outputs": [
    {
     "data": {
      "text/plain": [
       "767"
      ]
     },
     "execution_count": 8,
     "metadata": {},
     "output_type": "execute_result"
    }
   ],
   "source": [
    "df.duplicated().sum()"
   ]
  },
  {
   "cell_type": "markdown",
   "id": "7290dc03-c58f-4cbd-b6fc-6f96f34202f3",
   "metadata": {},
   "source": [
    "Như vậy có 767 các quan sát (hàng) bị trùng lắp, chúng ta cần tiến hành loại bỏ các quan sát này"
   ]
  },
  {
   "cell_type": "code",
   "execution_count": 9,
   "id": "4f2b498c-dcfd-4e25-b84e-51f23d7e7d82",
   "metadata": {},
   "outputs": [],
   "source": [
    "df.drop_duplicates(inplace=True)"
   ]
  },
  {
   "cell_type": "code",
   "execution_count": 10,
   "id": "4e21523a-c19c-4bd5-9a85-28ec1ce563a9",
   "metadata": {},
   "outputs": [
    {
     "data": {
      "text/plain": [
       "0"
      ]
     },
     "execution_count": 10,
     "metadata": {},
     "output_type": "execute_result"
    }
   ],
   "source": [
    "df.duplicated().sum()"
   ]
  },
  {
   "cell_type": "markdown",
   "id": "70d3b71a-cf44-4df0-9758-a48f6b609521",
   "metadata": {},
   "source": [
    "Và không còn quan sát nào bị trùng lắp nữa"
   ]
  },
  {
   "cell_type": "markdown",
   "id": "e861462c-904d-49d2-b8f0-41e7f5b6f58d",
   "metadata": {},
   "source": [
    "# 2. Data Exploration (Khám phá dữ liệu)"
   ]
  },
  {
   "cell_type": "markdown",
   "id": "541f3994-530e-48ce-b920-c7b89b6eb095",
   "metadata": {},
   "source": [
    "**Kiểm tra *thống kê mô tả* các trường của bộ dữ liệu**"
   ]
  },
  {
   "cell_type": "code",
   "execution_count": 11,
   "id": "7f44e03a-d2f2-4643-804f-cca5d4cd0215",
   "metadata": {},
   "outputs": [
    {
     "data": {
      "text/html": [
       "<div>\n",
       "<style scoped>\n",
       "    .dataframe tbody tr th:only-of-type {\n",
       "        vertical-align: middle;\n",
       "    }\n",
       "\n",
       "    .dataframe tbody tr th {\n",
       "        vertical-align: top;\n",
       "    }\n",
       "\n",
       "    .dataframe thead th {\n",
       "        text-align: right;\n",
       "    }\n",
       "</style>\n",
       "<table border=\"1\" class=\"dataframe\">\n",
       "  <thead>\n",
       "    <tr style=\"text-align: right;\">\n",
       "      <th></th>\n",
       "      <th>SeriousDlqin2yrs</th>\n",
       "      <th>RevolvingUtilizationOfUnsecuredLines</th>\n",
       "      <th>age</th>\n",
       "      <th>NumberOfTime30-59DaysPastDueNotWorse</th>\n",
       "      <th>DebtRatio</th>\n",
       "      <th>MonthlyIncome</th>\n",
       "      <th>NumberOfOpenCreditLinesAndLoans</th>\n",
       "      <th>NumberOfTimes90DaysLate</th>\n",
       "      <th>NumberRealEstateLoansOrLines</th>\n",
       "      <th>NumberOfTime60-89DaysPastDueNotWorse</th>\n",
       "      <th>NumberOfDependents</th>\n",
       "    </tr>\n",
       "  </thead>\n",
       "  <tbody>\n",
       "    <tr>\n",
       "      <th>count</th>\n",
       "      <td>149233.000000</td>\n",
       "      <td>149233.000000</td>\n",
       "      <td>149233.000000</td>\n",
       "      <td>149233.000000</td>\n",
       "      <td>149233.000000</td>\n",
       "      <td>1.492330e+05</td>\n",
       "      <td>149233.000000</td>\n",
       "      <td>149233.000000</td>\n",
       "      <td>149233.000000</td>\n",
       "      <td>149233.000000</td>\n",
       "      <td>149233.000000</td>\n",
       "    </tr>\n",
       "    <tr>\n",
       "      <th>mean</th>\n",
       "      <td>0.067036</td>\n",
       "      <td>6.077045</td>\n",
       "      <td>52.298145</td>\n",
       "      <td>0.388386</td>\n",
       "      <td>354.808254</td>\n",
       "      <td>6.426774e+03</td>\n",
       "      <td>8.488082</td>\n",
       "      <td>0.232435</td>\n",
       "      <td>1.023473</td>\n",
       "      <td>0.206811</td>\n",
       "      <td>0.741177</td>\n",
       "    </tr>\n",
       "    <tr>\n",
       "      <th>std</th>\n",
       "      <td>0.250085</td>\n",
       "      <td>250.396053</td>\n",
       "      <td>14.714050</td>\n",
       "      <td>3.779712</td>\n",
       "      <td>2042.891693</td>\n",
       "      <td>1.292246e+04</td>\n",
       "      <td>5.134233</td>\n",
       "      <td>3.752133</td>\n",
       "      <td>1.130304</td>\n",
       "      <td>3.736132</td>\n",
       "      <td>1.108596</td>\n",
       "    </tr>\n",
       "    <tr>\n",
       "      <th>min</th>\n",
       "      <td>0.000000</td>\n",
       "      <td>0.000000</td>\n",
       "      <td>0.000000</td>\n",
       "      <td>0.000000</td>\n",
       "      <td>0.000000</td>\n",
       "      <td>0.000000e+00</td>\n",
       "      <td>0.000000</td>\n",
       "      <td>0.000000</td>\n",
       "      <td>0.000000</td>\n",
       "      <td>0.000000</td>\n",
       "      <td>0.000000</td>\n",
       "    </tr>\n",
       "    <tr>\n",
       "      <th>25%</th>\n",
       "      <td>0.000000</td>\n",
       "      <td>0.030210</td>\n",
       "      <td>41.000000</td>\n",
       "      <td>0.000000</td>\n",
       "      <td>0.178098</td>\n",
       "      <td>3.900000e+03</td>\n",
       "      <td>5.000000</td>\n",
       "      <td>0.000000</td>\n",
       "      <td>0.000000</td>\n",
       "      <td>0.000000</td>\n",
       "      <td>0.000000</td>\n",
       "    </tr>\n",
       "    <tr>\n",
       "      <th>50%</th>\n",
       "      <td>0.000000</td>\n",
       "      <td>0.154285</td>\n",
       "      <td>52.000000</td>\n",
       "      <td>0.000000</td>\n",
       "      <td>0.368578</td>\n",
       "      <td>5.400000e+03</td>\n",
       "      <td>8.000000</td>\n",
       "      <td>0.000000</td>\n",
       "      <td>1.000000</td>\n",
       "      <td>0.000000</td>\n",
       "      <td>0.000000</td>\n",
       "    </tr>\n",
       "    <tr>\n",
       "      <th>75%</th>\n",
       "      <td>0.000000</td>\n",
       "      <td>0.555959</td>\n",
       "      <td>63.000000</td>\n",
       "      <td>0.000000</td>\n",
       "      <td>0.877090</td>\n",
       "      <td>7.409000e+03</td>\n",
       "      <td>11.000000</td>\n",
       "      <td>0.000000</td>\n",
       "      <td>2.000000</td>\n",
       "      <td>0.000000</td>\n",
       "      <td>1.000000</td>\n",
       "    </tr>\n",
       "    <tr>\n",
       "      <th>max</th>\n",
       "      <td>1.000000</td>\n",
       "      <td>50708.000000</td>\n",
       "      <td>109.000000</td>\n",
       "      <td>98.000000</td>\n",
       "      <td>329664.000000</td>\n",
       "      <td>3.008750e+06</td>\n",
       "      <td>58.000000</td>\n",
       "      <td>98.000000</td>\n",
       "      <td>54.000000</td>\n",
       "      <td>98.000000</td>\n",
       "      <td>20.000000</td>\n",
       "    </tr>\n",
       "  </tbody>\n",
       "</table>\n",
       "</div>"
      ],
      "text/plain": [
       "       SeriousDlqin2yrs  RevolvingUtilizationOfUnsecuredLines            age  \\\n",
       "count     149233.000000                         149233.000000  149233.000000   \n",
       "mean           0.067036                              6.077045      52.298145   \n",
       "std            0.250085                            250.396053      14.714050   \n",
       "min            0.000000                              0.000000       0.000000   \n",
       "25%            0.000000                              0.030210      41.000000   \n",
       "50%            0.000000                              0.154285      52.000000   \n",
       "75%            0.000000                              0.555959      63.000000   \n",
       "max            1.000000                          50708.000000     109.000000   \n",
       "\n",
       "       NumberOfTime30-59DaysPastDueNotWorse      DebtRatio  MonthlyIncome  \\\n",
       "count                         149233.000000  149233.000000   1.492330e+05   \n",
       "mean                               0.388386     354.808254   6.426774e+03   \n",
       "std                                3.779712    2042.891693   1.292246e+04   \n",
       "min                                0.000000       0.000000   0.000000e+00   \n",
       "25%                                0.000000       0.178098   3.900000e+03   \n",
       "50%                                0.000000       0.368578   5.400000e+03   \n",
       "75%                                0.000000       0.877090   7.409000e+03   \n",
       "max                               98.000000  329664.000000   3.008750e+06   \n",
       "\n",
       "       NumberOfOpenCreditLinesAndLoans  NumberOfTimes90DaysLate  \\\n",
       "count                    149233.000000            149233.000000   \n",
       "mean                          8.488082                 0.232435   \n",
       "std                           5.134233                 3.752133   \n",
       "min                           0.000000                 0.000000   \n",
       "25%                           5.000000                 0.000000   \n",
       "50%                           8.000000                 0.000000   \n",
       "75%                          11.000000                 0.000000   \n",
       "max                          58.000000                98.000000   \n",
       "\n",
       "       NumberRealEstateLoansOrLines  NumberOfTime60-89DaysPastDueNotWorse  \\\n",
       "count                 149233.000000                         149233.000000   \n",
       "mean                       1.023473                              0.206811   \n",
       "std                        1.130304                              3.736132   \n",
       "min                        0.000000                              0.000000   \n",
       "25%                        0.000000                              0.000000   \n",
       "50%                        1.000000                              0.000000   \n",
       "75%                        2.000000                              0.000000   \n",
       "max                       54.000000                             98.000000   \n",
       "\n",
       "       NumberOfDependents  \n",
       "count       149233.000000  \n",
       "mean             0.741177  \n",
       "std              1.108596  \n",
       "min              0.000000  \n",
       "25%              0.000000  \n",
       "50%              0.000000  \n",
       "75%              1.000000  \n",
       "max             20.000000  "
      ]
     },
     "execution_count": 11,
     "metadata": {},
     "output_type": "execute_result"
    }
   ],
   "source": [
    "df.describe()"
   ]
  },
  {
   "cell_type": "code",
   "execution_count": 12,
   "id": "cf970c60-e38d-4e9d-b3ac-ab4a7fa30e2c",
   "metadata": {},
   "outputs": [
    {
     "data": {
      "text/plain": [
       "Index(['SeriousDlqin2yrs', 'RevolvingUtilizationOfUnsecuredLines', 'age',\n",
       "       'NumberOfTime30-59DaysPastDueNotWorse', 'DebtRatio', 'MonthlyIncome',\n",
       "       'NumberOfOpenCreditLinesAndLoans', 'NumberOfTimes90DaysLate',\n",
       "       'NumberRealEstateLoansOrLines', 'NumberOfTime60-89DaysPastDueNotWorse',\n",
       "       'NumberOfDependents'],\n",
       "      dtype='object')"
      ]
     },
     "execution_count": 12,
     "metadata": {},
     "output_type": "execute_result"
    }
   ],
   "source": [
    "df.columns"
   ]
  },
  {
   "cell_type": "markdown",
   "id": "038f353d-c3a5-47a9-8017-d4ca148f4532",
   "metadata": {},
   "source": [
    "**Kiểm tra trường dữ liệu *SeriousDlqin2yrs***"
   ]
  },
  {
   "cell_type": "code",
   "execution_count": 13,
   "id": "605f0ac5-1255-4879-a73f-29303bf64a47",
   "metadata": {},
   "outputs": [
    {
     "data": {
      "text/plain": [
       "SeriousDlqin2yrs\n",
       "0    139229\n",
       "1     10004\n",
       "Name: SeriousDlqin2yrs, dtype: int64"
      ]
     },
     "execution_count": 13,
     "metadata": {},
     "output_type": "execute_result"
    }
   ],
   "source": [
    "df.groupby('SeriousDlqin2yrs')['SeriousDlqin2yrs'].count()"
   ]
  },
  {
   "cell_type": "markdown",
   "id": "9b8de856-a841-4365-be0a-e828b9b37df0",
   "metadata": {},
   "source": [
    "**Visualization của trường *SeriousDlqin2yrs***"
   ]
  },
  {
   "cell_type": "markdown",
   "id": "07f188b5-332d-4738-80ac-3d2758524d04",
   "metadata": {},
   "source": [
    "***Bar chart***"
   ]
  },
  {
   "cell_type": "code",
   "execution_count": 14,
   "id": "1d3fcfeb-3b42-47cb-8f18-a9b615634261",
   "metadata": {},
   "outputs": [
    {
     "data": {
      "image/png": "[encoded data removed]",
      "text/plain": [
       "<Figure size 432x288 with 1 Axes>"
      ]
     },
     "metadata": {
      "needs_background": "light"
     },
     "output_type": "display_data"
    }
   ],
   "source": [
    "sns.countplot(data=df, x='SeriousDlqin2yrs')\n",
    "plt.show()"
   ]
  },
  {
   "cell_type": "markdown",
   "id": "cf1d4074-4eb5-40f3-9dc0-d71f77c0dd8a",
   "metadata": {},
   "source": [
    "***Pie chart***"
   ]
  },
  {
   "cell_type": "code",
   "execution_count": 15,
   "id": "b16d371e-2534-4040-852a-8835082a6583",
   "metadata": {},
   "outputs": [
    {
     "data": {
      "image/png": "[encoded data removed]",
      "text/plain": [
       "<Figure size 432x288 with 1 Axes>"
      ]
     },
     "metadata": {},
     "output_type": "display_data"
    }
   ],
   "source": [
    "plt.pie(x=df.groupby('SeriousDlqin2yrs')['SeriousDlqin2yrs'].count().values, \n",
    "       explode=(0,0.1), labels=['0','1'], autopct='%.2f%%')\n",
    "plt.show()"
   ]
  },
  {
   "cell_type": "markdown",
   "id": "9f9df71d-10d2-4da4-bf48-acf4c8621f32",
   "metadata": {},
   "source": [
    "Có sự khác biệt rất lớn giữa người trả được nợ và người không trả được nợ (vỡ nợ)\n",
    "\n",
    "**→ Chắc chắn ảnh hưởng đến mô hình phân tích về sau**"
   ]
  },
  {
   "cell_type": "markdown",
   "id": "d1859fb2-1f20-46d9-b419-3b2cb3c04e32",
   "metadata": {},
   "source": [
    "**Mối quan hệ giữa** *trả được nợ/vỡ nợ* **đối với** *thu nhập, tỷ lệ nợ, tuổi và các yếu tố khác*"
   ]
  },
  {
   "cell_type": "code",
   "execution_count": 16,
   "id": "1742da2f-714b-41fb-bb53-1aa1dc1f2b6d",
   "metadata": {},
   "outputs": [
    {
     "data": {
      "text/html": [
       "<div>\n",
       "<style scoped>\n",
       "    .dataframe tbody tr th:only-of-type {\n",
       "        vertical-align: middle;\n",
       "    }\n",
       "\n",
       "    .dataframe tbody tr th {\n",
       "        vertical-align: top;\n",
       "    }\n",
       "\n",
       "    .dataframe thead tr th {\n",
       "        text-align: left;\n",
       "    }\n",
       "\n",
       "    .dataframe thead tr:last-of-type th {\n",
       "        text-align: right;\n",
       "    }\n",
       "</style>\n",
       "<table border=\"1\" class=\"dataframe\">\n",
       "  <thead>\n",
       "    <tr>\n",
       "      <th></th>\n",
       "      <th colspan=\"3\" halign=\"left\">RevolvingUtilizationOfUnsecuredLines</th>\n",
       "      <th colspan=\"3\" halign=\"left\">MonthlyIncome</th>\n",
       "      <th colspan=\"3\" halign=\"left\">DebtRatio</th>\n",
       "      <th colspan=\"3\" halign=\"left\">age</th>\n",
       "    </tr>\n",
       "    <tr>\n",
       "      <th></th>\n",
       "      <th>mean</th>\n",
       "      <th>median</th>\n",
       "      <th>max</th>\n",
       "      <th>mean</th>\n",
       "      <th>median</th>\n",
       "      <th>max</th>\n",
       "      <th>mean</th>\n",
       "      <th>median</th>\n",
       "      <th>max</th>\n",
       "      <th>mean</th>\n",
       "      <th>median</th>\n",
       "      <th>max</th>\n",
       "    </tr>\n",
       "    <tr>\n",
       "      <th>SeriousDlqin2yrs</th>\n",
       "      <th></th>\n",
       "      <th></th>\n",
       "      <th></th>\n",
       "      <th></th>\n",
       "      <th></th>\n",
       "      <th></th>\n",
       "      <th></th>\n",
       "      <th></th>\n",
       "      <th></th>\n",
       "      <th></th>\n",
       "      <th></th>\n",
       "      <th></th>\n",
       "    </tr>\n",
       "  </thead>\n",
       "  <tbody>\n",
       "    <tr>\n",
       "      <th>0</th>\n",
       "      <td>6.199365</td>\n",
       "      <td>0.133433</td>\n",
       "      <td>50708.0</td>\n",
       "      <td>6486.625215</td>\n",
       "      <td>5400.0</td>\n",
       "      <td>3008750.0</td>\n",
       "      <td>359.050473</td>\n",
       "      <td>0.364808</td>\n",
       "      <td>329664.0</td>\n",
       "      <td>52.753966</td>\n",
       "      <td>52.0</td>\n",
       "      <td>109</td>\n",
       "    </tr>\n",
       "    <tr>\n",
       "      <th>1</th>\n",
       "      <td>4.374687</td>\n",
       "      <td>0.837421</td>\n",
       "      <td>8328.0</td>\n",
       "      <td>5593.804178</td>\n",
       "      <td>5222.5</td>\n",
       "      <td>250000.0</td>\n",
       "      <td>295.767874</td>\n",
       "      <td>0.429075</td>\n",
       "      <td>38793.0</td>\n",
       "      <td>45.954318</td>\n",
       "      <td>45.5</td>\n",
       "      <td>101</td>\n",
       "    </tr>\n",
       "  </tbody>\n",
       "</table>\n",
       "</div>"
      ],
      "text/plain": [
       "                 RevolvingUtilizationOfUnsecuredLines                     \\\n",
       "                                                 mean    median      max   \n",
       "SeriousDlqin2yrs                                                           \n",
       "0                                            6.199365  0.133433  50708.0   \n",
       "1                                            4.374687  0.837421   8328.0   \n",
       "\n",
       "                 MonthlyIncome                      DebtRatio            \\\n",
       "                          mean  median        max        mean    median   \n",
       "SeriousDlqin2yrs                                                          \n",
       "0                  6486.625215  5400.0  3008750.0  359.050473  0.364808   \n",
       "1                  5593.804178  5222.5   250000.0  295.767874  0.429075   \n",
       "\n",
       "                                  age              \n",
       "                       max       mean median  max  \n",
       "SeriousDlqin2yrs                                   \n",
       "0                 329664.0  52.753966   52.0  109  \n",
       "1                  38793.0  45.954318   45.5  101  "
      ]
     },
     "execution_count": 16,
     "metadata": {},
     "output_type": "execute_result"
    }
   ],
   "source": [
    "df.groupby('SeriousDlqin2yrs')[['RevolvingUtilizationOfUnsecuredLines',\n",
    "                               'MonthlyIncome','DebtRatio','age']].agg(['mean','median','max'])"
   ]
  },
  {
   "cell_type": "markdown",
   "id": "1034fc08-dc66-46fb-be8e-4fbd14f06a61",
   "metadata": {},
   "source": [
    "**Nhận xét:**\n",
    "- *MonthlyIncome*: những người trả được nợ có thu nhập nhập cao hơn\n",
    "- *DebtRatio*: tỷ lệ nợ càng cao thì càng ít vỡ nợ\n",
    "- *age*: tuổi càng cao thì càng ít vỡ nợ\n",
    "\n",
    "*[0]: trả được nợ*              *[1]: không trả được nợ (vỡ nợ)*"
   ]
  },
  {
   "cell_type": "code",
   "execution_count": 17,
   "id": "46b86a2a-6c6d-4460-9867-d8242bee0285",
   "metadata": {},
   "outputs": [
    {
     "data": {
      "image/png": "[encoded data removed]",
      "text/plain": [
       "<Figure size 432x216 with 2 Axes>"
      ]
     },
     "metadata": {
      "needs_background": "light"
     },
     "output_type": "display_data"
    }
   ],
   "source": [
    "g=sns.FacetGrid(col='SeriousDlqin2yrs', data=df)\n",
    "g.map(plt.hist,'RevolvingUtilizationOfUnsecuredLines')\n",
    "plt.show()"
   ]
  },
  {
   "cell_type": "markdown",
   "id": "2aea5ef1-429f-4d6a-a3bc-f750482166fc",
   "metadata": {},
   "source": [
    "Đối với những người trả được nợ thì có số dư tài khoản cuối kỳ cao hơn rất nhiều so với những người không trả được nợ"
   ]
  },
  {
   "cell_type": "markdown",
   "id": "737df46a-a302-46ac-a436-f4f708762a4d",
   "metadata": {},
   "source": [
    "***Xem xét các yếu tố khác ở 2 nhóm người này***"
   ]
  },
  {
   "cell_type": "code",
   "execution_count": 18,
   "id": "6d598acd-28fe-442d-9b95-d8eb9c79d62a",
   "metadata": {},
   "outputs": [
    {
     "data": {
      "text/plain": [
       "Index(['SeriousDlqin2yrs', 'RevolvingUtilizationOfUnsecuredLines', 'age',\n",
       "       'NumberOfTime30-59DaysPastDueNotWorse', 'DebtRatio', 'MonthlyIncome',\n",
       "       'NumberOfOpenCreditLinesAndLoans', 'NumberOfTimes90DaysLate',\n",
       "       'NumberRealEstateLoansOrLines', 'NumberOfTime60-89DaysPastDueNotWorse',\n",
       "       'NumberOfDependents'],\n",
       "      dtype='object')"
      ]
     },
     "execution_count": 18,
     "metadata": {},
     "output_type": "execute_result"
    }
   ],
   "source": [
    "df.columns"
   ]
  },
  {
   "cell_type": "code",
   "execution_count": 19,
   "id": "220d4f88-bfae-4dbe-8c2e-5c90449f4fe9",
   "metadata": {},
   "outputs": [
    {
     "data": {
      "text/html": [
       "<div>\n",
       "<style scoped>\n",
       "    .dataframe tbody tr th:only-of-type {\n",
       "        vertical-align: middle;\n",
       "    }\n",
       "\n",
       "    .dataframe tbody tr th {\n",
       "        vertical-align: top;\n",
       "    }\n",
       "\n",
       "    .dataframe thead tr th {\n",
       "        text-align: left;\n",
       "    }\n",
       "\n",
       "    .dataframe thead tr:last-of-type th {\n",
       "        text-align: right;\n",
       "    }\n",
       "</style>\n",
       "<table border=\"1\" class=\"dataframe\">\n",
       "  <thead>\n",
       "    <tr>\n",
       "      <th></th>\n",
       "      <th>NumberOfTime30-59DaysPastDueNotWorse</th>\n",
       "      <th>NumberOfTimes90DaysLate</th>\n",
       "      <th>NumberOfTime60-89DaysPastDueNotWorse</th>\n",
       "    </tr>\n",
       "    <tr>\n",
       "      <th></th>\n",
       "      <th>mean</th>\n",
       "      <th>mean</th>\n",
       "      <th>mean</th>\n",
       "    </tr>\n",
       "    <tr>\n",
       "      <th>SeriousDlqin2yrs</th>\n",
       "      <th></th>\n",
       "      <th></th>\n",
       "      <th></th>\n",
       "    </tr>\n",
       "  </thead>\n",
       "  <tbody>\n",
       "    <tr>\n",
       "      <th>0</th>\n",
       "      <td>0.254854</td>\n",
       "      <td>0.109101</td>\n",
       "      <td>0.100590</td>\n",
       "    </tr>\n",
       "    <tr>\n",
       "      <th>1</th>\n",
       "      <td>2.246801</td>\n",
       "      <td>1.948920</td>\n",
       "      <td>1.685126</td>\n",
       "    </tr>\n",
       "  </tbody>\n",
       "</table>\n",
       "</div>"
      ],
      "text/plain": [
       "                 NumberOfTime30-59DaysPastDueNotWorse NumberOfTimes90DaysLate  \\\n",
       "                                                 mean                    mean   \n",
       "SeriousDlqin2yrs                                                                \n",
       "0                                            0.254854                0.109101   \n",
       "1                                            2.246801                1.948920   \n",
       "\n",
       "                 NumberOfTime60-89DaysPastDueNotWorse  \n",
       "                                                 mean  \n",
       "SeriousDlqin2yrs                                       \n",
       "0                                            0.100590  \n",
       "1                                            1.685126  "
      ]
     },
     "execution_count": 19,
     "metadata": {},
     "output_type": "execute_result"
    }
   ],
   "source": [
    "overdue = df.groupby('SeriousDlqin2yrs')[['NumberOfTime30-59DaysPastDueNotWorse',\n",
    "                               'NumberOfTimes90DaysLate',\n",
    "                               'NumberOfTime60-89DaysPastDueNotWorse']].agg(['mean'])\n",
    "overdue.head()"
   ]
  },
  {
   "cell_type": "code",
   "execution_count": 20,
   "id": "7abf7e74-23ad-4e75-a67f-8fa0ae541556",
   "metadata": {},
   "outputs": [
    {
     "data": {
      "image/png": "[encoded data removed]",
      "text/plain": [
       "<Figure size 1440x360 with 3 Axes>"
      ]
     },
     "metadata": {
      "needs_background": "light"
     },
     "output_type": "display_data"
    }
   ],
   "source": [
    "_, axes = plt.subplots(1,3, figsize=(20,5))\n",
    "\n",
    "overdue['NumberOfTime30-59DaysPastDueNotWorse'].plot(kind='bar', ax=axes[0])\n",
    "overdue['NumberOfTime60-89DaysPastDueNotWorse'].plot(kind='bar', ax=axes[1])\n",
    "overdue['NumberOfTimes90DaysLate'].plot(kind='bar', ax=axes[2])\n",
    "\n",
    "plt.show()"
   ]
  },
  {
   "cell_type": "markdown",
   "id": "24548e33-871c-4759-bfcf-45019e24f115",
   "metadata": {},
   "source": [
    "**Nhận xét**\n",
    "- Những người trả được nợ có số lần trả nợ vượt quá tiêu chuẩn thấp hơn nhiều so với những người không trả được nợ"
   ]
  },
  {
   "cell_type": "code",
   "execution_count": 21,
   "id": "b9621a22-3752-45d4-87ec-701e8f84843b",
   "metadata": {},
   "outputs": [
    {
     "data": {
      "text/plain": [
       "Index(['SeriousDlqin2yrs', 'RevolvingUtilizationOfUnsecuredLines', 'age',\n",
       "       'NumberOfTime30-59DaysPastDueNotWorse', 'DebtRatio', 'MonthlyIncome',\n",
       "       'NumberOfOpenCreditLinesAndLoans', 'NumberOfTimes90DaysLate',\n",
       "       'NumberRealEstateLoansOrLines', 'NumberOfTime60-89DaysPastDueNotWorse',\n",
       "       'NumberOfDependents'],\n",
       "      dtype='object')"
      ]
     },
     "execution_count": 21,
     "metadata": {},
     "output_type": "execute_result"
    }
   ],
   "source": [
    "df.columns"
   ]
  },
  {
   "cell_type": "markdown",
   "id": "3836456b-0a28-4990-a060-dafdcd33e280",
   "metadata": {
    "tags": []
   },
   "source": [
    "## Tìm correlation giữa các biến"
   ]
  },
  {
   "cell_type": "code",
   "execution_count": 22,
   "id": "b10b5d9c-050c-4232-aea1-e354ca994993",
   "metadata": {},
   "outputs": [
    {
     "data": {
      "text/html": [
       "<div>\n",
       "<style scoped>\n",
       "    .dataframe tbody tr th:only-of-type {\n",
       "        vertical-align: middle;\n",
       "    }\n",
       "\n",
       "    .dataframe tbody tr th {\n",
       "        vertical-align: top;\n",
       "    }\n",
       "\n",
       "    .dataframe thead th {\n",
       "        text-align: right;\n",
       "    }\n",
       "</style>\n",
       "<table border=\"1\" class=\"dataframe\">\n",
       "  <thead>\n",
       "    <tr style=\"text-align: right;\">\n",
       "      <th></th>\n",
       "      <th>NumberOfTime30-59DaysPastDueNotWorse</th>\n",
       "      <th>NumberOfTimes90DaysLate</th>\n",
       "      <th>NumberOfTime60-89DaysPastDueNotWorse</th>\n",
       "    </tr>\n",
       "  </thead>\n",
       "  <tbody>\n",
       "    <tr>\n",
       "      <th>NumberOfTime30-59DaysPastDueNotWorse</th>\n",
       "      <td>1.000000</td>\n",
       "      <td>0.979702</td>\n",
       "      <td>0.983910</td>\n",
       "    </tr>\n",
       "    <tr>\n",
       "      <th>NumberOfTimes90DaysLate</th>\n",
       "      <td>0.979702</td>\n",
       "      <td>1.000000</td>\n",
       "      <td>0.991059</td>\n",
       "    </tr>\n",
       "    <tr>\n",
       "      <th>NumberOfTime60-89DaysPastDueNotWorse</th>\n",
       "      <td>0.983910</td>\n",
       "      <td>0.991059</td>\n",
       "      <td>1.000000</td>\n",
       "    </tr>\n",
       "  </tbody>\n",
       "</table>\n",
       "</div>"
      ],
      "text/plain": [
       "                                      NumberOfTime30-59DaysPastDueNotWorse  \\\n",
       "NumberOfTime30-59DaysPastDueNotWorse                              1.000000   \n",
       "NumberOfTimes90DaysLate                                           0.979702   \n",
       "NumberOfTime60-89DaysPastDueNotWorse                              0.983910   \n",
       "\n",
       "                                      NumberOfTimes90DaysLate  \\\n",
       "NumberOfTime30-59DaysPastDueNotWorse                 0.979702   \n",
       "NumberOfTimes90DaysLate                              1.000000   \n",
       "NumberOfTime60-89DaysPastDueNotWorse                 0.991059   \n",
       "\n",
       "                                      NumberOfTime60-89DaysPastDueNotWorse  \n",
       "NumberOfTime30-59DaysPastDueNotWorse                              0.983910  \n",
       "NumberOfTimes90DaysLate                                           0.991059  \n",
       "NumberOfTime60-89DaysPastDueNotWorse                              1.000000  "
      ]
     },
     "execution_count": 22,
     "metadata": {},
     "output_type": "execute_result"
    }
   ],
   "source": [
    "df[['NumberOfTime30-59DaysPastDueNotWorse',\n",
    "   'NumberOfTimes90DaysLate',\n",
    "   'NumberOfTime60-89DaysPastDueNotWorse']].corr()"
   ]
  },
  {
   "cell_type": "markdown",
   "id": "852d0a2f-232b-479d-9e0c-dd4f0b14da2a",
   "metadata": {},
   "source": [
    "Chúng ta nhận thấy corr của các biến là như nhau (=1 hoặc ~1) \n",
    "- Thì lượng thông tin mô hình nhận được là gấp *n biến tương quan như nhau* trong mô hình lên. Nhưng trong thực tế thì chỉ cần chọn 1 trong 3 biến là đủ. Cụ thể, trong mô hình hệ số trước x là 1 thì ta ghi là *x*, nhưng việc đưa biến có tương quan như nhau vào sẽ dẫn đến việc tăng hệ số này lên. Đưa thêm 3 biến có tương quan y hệt x thì lúc này mô hình có hệ số trước x là 4x. **Việc này có vẻ không có ý nghĩa và mô hình lúc này bị overfit**.\n",
    "    \n",
    "- Đồng thời việc này cũng **ảnh hưởng đến tính chính xác khi xác định các biến nào là quan trọng nhất đối với biến phụ thuộc trong mô hình**. Dựa vào việc cố định các b,c trong mô hình và xét biến a để đưa ra giá trị phụ thuộc của biến a đối với mô hình lúc này không còn đúng nữa. Do biến a,b,c lúc này có tương quan như nhau. \n",
    "\n",
    "**Do nhận thấy các biến này có tương quan là gần như nhau nên cuối cùng, chúng ta chỉ cần chọn 1 trong 3 biến bên dưới là đủ** \n",
    "- 'NumberOfTime30-59DaysPastDueNotWorse'\n",
    "- 'NumberOfTimes90DaysLate'\n",
    "- 'NumberOfTime60-89DaysPastDueNotWorse'"
   ]
  },
  {
   "cell_type": "markdown",
   "id": "6af12ddd-a202-4829-93d1-db533f0161af",
   "metadata": {},
   "source": [
    "*Một cách trực quan hóa hơn, chúng ta có thể dùng **đồ thị Heatmap** để quan sát giúp cho việc quan sát thuận tiện và nhanh chóng hơn*"
   ]
  },
  {
   "cell_type": "code",
   "execution_count": 23,
   "id": "1f8287fb-7597-4c12-9467-ae1eb6fbcbb9",
   "metadata": {},
   "outputs": [
    {
     "data": {
      "image/png": "[encoded data removed]",
      "text/plain": [
       "<Figure size 432x288 with 2 Axes>"
      ]
     },
     "metadata": {
      "needs_background": "light"
     },
     "output_type": "display_data"
    }
   ],
   "source": [
    "columns = ['SeriousDlqin2yrs', 'RevolvingUtilizationOfUnsecuredLines', 'age','DebtRatio', \n",
    "           'MonthlyIncome','NumberOfOpenCreditLinesAndLoans', 'NumberOfTimes90DaysLate',\n",
    "           'NumberRealEstateLoansOrLines','NumberOfDependents']\n",
    "sns.heatmap(df[columns].corr(),annot=True,fmt='0.1f',cmap='Oranges')\n",
    "plt.show()"
   ]
  },
  {
   "cell_type": "markdown",
   "id": "c262720f-589b-4964-8d31-6b9ee2240cb3",
   "metadata": {},
   "source": [
    "**Như vậy, trong mô hình không còn các biến độc lập nào có tương quan với nhau nữa. Nói cách khác, lúc này các biến độc lập trong mô hình là hoàn toàn độc lập và không ảnh hưởng gì với nhau.**"
   ]
  },
  {
   "cell_type": "markdown",
   "id": "ff170a93-488c-41ab-87c2-40a5e8478b6d",
   "metadata": {
    "tags": []
   },
   "source": [
    "# 3. Tạo mô hình Machine Learning \n",
    "## Tạo dataframe gồm các biến độc lập"
   ]
  },
  {
   "cell_type": "markdown",
   "id": "fb3359a3-6a89-42ec-a598-9d97c104fe42",
   "metadata": {},
   "source": [
    "**Tạo bảng bao gồm các Features (biến độc lập)**"
   ]
  },
  {
   "cell_type": "code",
   "execution_count": 24,
   "id": "6544096e-280e-44cd-96c7-de20a26aa43c",
   "metadata": {},
   "outputs": [],
   "source": [
    "new_df=df[columns].copy()"
   ]
  },
  {
   "cell_type": "markdown",
   "id": "85522cbd-1af9-453a-a372-436c7f4fac30",
   "metadata": {},
   "source": [
    "**Lưu ý: Phải kiểm tra lại xem các scale có tương đồng chưa**\n",
    "- Lưu ý rằng nếu scale không tương đồng sẽ dẫn đến việc mô hình bị bias và  học máy trở thành 'học dở'"
   ]
  },
  {
   "cell_type": "code",
   "execution_count": 25,
   "id": "7b54334f-e6a3-4478-84fd-bf9201409872",
   "metadata": {},
   "outputs": [
    {
     "data": {
      "text/html": [
       "<div>\n",
       "<style scoped>\n",
       "    .dataframe tbody tr th:only-of-type {\n",
       "        vertical-align: middle;\n",
       "    }\n",
       "\n",
       "    .dataframe tbody tr th {\n",
       "        vertical-align: top;\n",
       "    }\n",
       "\n",
       "    .dataframe thead th {\n",
       "        text-align: right;\n",
       "    }\n",
       "</style>\n",
       "<table border=\"1\" class=\"dataframe\">\n",
       "  <thead>\n",
       "    <tr style=\"text-align: right;\">\n",
       "      <th></th>\n",
       "      <th>SeriousDlqin2yrs</th>\n",
       "      <th>RevolvingUtilizationOfUnsecuredLines</th>\n",
       "      <th>age</th>\n",
       "      <th>DebtRatio</th>\n",
       "      <th>MonthlyIncome</th>\n",
       "      <th>NumberOfOpenCreditLinesAndLoans</th>\n",
       "      <th>NumberOfTimes90DaysLate</th>\n",
       "      <th>NumberRealEstateLoansOrLines</th>\n",
       "      <th>NumberOfDependents</th>\n",
       "    </tr>\n",
       "  </thead>\n",
       "  <tbody>\n",
       "    <tr>\n",
       "      <th>count</th>\n",
       "      <td>149233.000000</td>\n",
       "      <td>149233.000000</td>\n",
       "      <td>149233.000000</td>\n",
       "      <td>149233.000000</td>\n",
       "      <td>1.492330e+05</td>\n",
       "      <td>149233.000000</td>\n",
       "      <td>149233.000000</td>\n",
       "      <td>149233.000000</td>\n",
       "      <td>149233.000000</td>\n",
       "    </tr>\n",
       "    <tr>\n",
       "      <th>mean</th>\n",
       "      <td>0.067036</td>\n",
       "      <td>6.077045</td>\n",
       "      <td>52.298145</td>\n",
       "      <td>354.808254</td>\n",
       "      <td>6.426774e+03</td>\n",
       "      <td>8.488082</td>\n",
       "      <td>0.232435</td>\n",
       "      <td>1.023473</td>\n",
       "      <td>0.741177</td>\n",
       "    </tr>\n",
       "    <tr>\n",
       "      <th>std</th>\n",
       "      <td>0.250085</td>\n",
       "      <td>250.396053</td>\n",
       "      <td>14.714050</td>\n",
       "      <td>2042.891693</td>\n",
       "      <td>1.292246e+04</td>\n",
       "      <td>5.134233</td>\n",
       "      <td>3.752133</td>\n",
       "      <td>1.130304</td>\n",
       "      <td>1.108596</td>\n",
       "    </tr>\n",
       "    <tr>\n",
       "      <th>min</th>\n",
       "      <td>0.000000</td>\n",
       "      <td>0.000000</td>\n",
       "      <td>0.000000</td>\n",
       "      <td>0.000000</td>\n",
       "      <td>0.000000e+00</td>\n",
       "      <td>0.000000</td>\n",
       "      <td>0.000000</td>\n",
       "      <td>0.000000</td>\n",
       "      <td>0.000000</td>\n",
       "    </tr>\n",
       "    <tr>\n",
       "      <th>25%</th>\n",
       "      <td>0.000000</td>\n",
       "      <td>0.030210</td>\n",
       "      <td>41.000000</td>\n",
       "      <td>0.178098</td>\n",
       "      <td>3.900000e+03</td>\n",
       "      <td>5.000000</td>\n",
       "      <td>0.000000</td>\n",
       "      <td>0.000000</td>\n",
       "      <td>0.000000</td>\n",
       "    </tr>\n",
       "    <tr>\n",
       "      <th>50%</th>\n",
       "      <td>0.000000</td>\n",
       "      <td>0.154285</td>\n",
       "      <td>52.000000</td>\n",
       "      <td>0.368578</td>\n",
       "      <td>5.400000e+03</td>\n",
       "      <td>8.000000</td>\n",
       "      <td>0.000000</td>\n",
       "      <td>1.000000</td>\n",
       "      <td>0.000000</td>\n",
       "    </tr>\n",
       "    <tr>\n",
       "      <th>75%</th>\n",
       "      <td>0.000000</td>\n",
       "      <td>0.555959</td>\n",
       "      <td>63.000000</td>\n",
       "      <td>0.877090</td>\n",
       "      <td>7.409000e+03</td>\n",
       "      <td>11.000000</td>\n",
       "      <td>0.000000</td>\n",
       "      <td>2.000000</td>\n",
       "      <td>1.000000</td>\n",
       "    </tr>\n",
       "    <tr>\n",
       "      <th>max</th>\n",
       "      <td>1.000000</td>\n",
       "      <td>50708.000000</td>\n",
       "      <td>109.000000</td>\n",
       "      <td>329664.000000</td>\n",
       "      <td>3.008750e+06</td>\n",
       "      <td>58.000000</td>\n",
       "      <td>98.000000</td>\n",
       "      <td>54.000000</td>\n",
       "      <td>20.000000</td>\n",
       "    </tr>\n",
       "  </tbody>\n",
       "</table>\n",
       "</div>"
      ],
      "text/plain": [
       "       SeriousDlqin2yrs  RevolvingUtilizationOfUnsecuredLines            age  \\\n",
       "count     149233.000000                         149233.000000  149233.000000   \n",
       "mean           0.067036                              6.077045      52.298145   \n",
       "std            0.250085                            250.396053      14.714050   \n",
       "min            0.000000                              0.000000       0.000000   \n",
       "25%            0.000000                              0.030210      41.000000   \n",
       "50%            0.000000                              0.154285      52.000000   \n",
       "75%            0.000000                              0.555959      63.000000   \n",
       "max            1.000000                          50708.000000     109.000000   \n",
       "\n",
       "           DebtRatio  MonthlyIncome  NumberOfOpenCreditLinesAndLoans  \\\n",
       "count  149233.000000   1.492330e+05                    149233.000000   \n",
       "mean      354.808254   6.426774e+03                         8.488082   \n",
       "std      2042.891693   1.292246e+04                         5.134233   \n",
       "min         0.000000   0.000000e+00                         0.000000   \n",
       "25%         0.178098   3.900000e+03                         5.000000   \n",
       "50%         0.368578   5.400000e+03                         8.000000   \n",
       "75%         0.877090   7.409000e+03                        11.000000   \n",
       "max    329664.000000   3.008750e+06                        58.000000   \n",
       "\n",
       "       NumberOfTimes90DaysLate  NumberRealEstateLoansOrLines  \\\n",
       "count            149233.000000                 149233.000000   \n",
       "mean                  0.232435                      1.023473   \n",
       "std                   3.752133                      1.130304   \n",
       "min                   0.000000                      0.000000   \n",
       "25%                   0.000000                      0.000000   \n",
       "50%                   0.000000                      1.000000   \n",
       "75%                   0.000000                      2.000000   \n",
       "max                  98.000000                     54.000000   \n",
       "\n",
       "       NumberOfDependents  \n",
       "count       149233.000000  \n",
       "mean             0.741177  \n",
       "std              1.108596  \n",
       "min              0.000000  \n",
       "25%              0.000000  \n",
       "50%              0.000000  \n",
       "75%              1.000000  \n",
       "max             20.000000  "
      ]
     },
     "execution_count": 25,
     "metadata": {},
     "output_type": "execute_result"
    }
   ],
   "source": [
    "new_df.describe()"
   ]
  },
  {
   "cell_type": "markdown",
   "id": "22f2b9b2-79a5-4d24-9ad1-91a33787017a",
   "metadata": {},
   "source": [
    "**Nhận xét**\n",
    "\n",
    "*income so với các biến khác có giá trị lệch nhau quá nhiều: income thì có đơn vị là triệu trong khi đó các feature còn lại không đến mức đó*\n",
    "\n",
    "**→  Tiến hành việc chuẩn hóa (normalization)các feature trong mô hình**"
   ]
  },
  {
   "cell_type": "markdown",
   "id": "6890af79-cbb3-4f16-b1f3-80b3585484cf",
   "metadata": {
    "tags": []
   },
   "source": [
    "## Normalization"
   ]
  },
  {
   "cell_type": "markdown",
   "id": "07e8bff7-89bd-464b-91a4-083e0cbaf25b",
   "metadata": {},
   "source": [
    "- Normalization: MinMaxScaler \n",
    "- Standardization: StandardScaler "
   ]
  },
  {
   "cell_type": "markdown",
   "id": "1cfd8ea8-0eb9-4d1a-8000-be26e0d7f6c4",
   "metadata": {
    "tags": []
   },
   "source": [
    "***Giá trị của x sau khi được chuẩn hóa bằng MinMaxScaler***\n",
    "$$\\text{X}_{scaled}=\\frac{X_{max} - X_i}{X_{max}-X_{min}}$$\n",
    "\n",
    "*- Đối với biến độc lập có giá trị 0 và 1 (biến nhị phân) thì phương pháp MinMaxScaler trả lại 0 nếu ban đầu biến đó bằng 1 và ngược lại trả lại 1 nếu ban đầu biến đó bằng 0. Vì khoảng cách giữa xmin và xmax sau khi chuẩn hóa vẫn là 0 và 1. Nên phương pháp này sẽ không hữu ích đối với biến nhị phân.*\n",
    "\n",
    "***Giá trị của x sau khi được chuẩn hóa bằng StandardScaler***\n",
    "$$\\text{X}_{scaled}=\\frac{X_i - \\bar{X}}{\\sigma}$$"
   ]
  },
  {
   "cell_type": "markdown",
   "id": "f4633eed-67c0-4f41-8c8a-43bcf9603047",
   "metadata": {},
   "source": [
    "--"
   ]
  },
  {
   "cell_type": "markdown",
   "id": "9af27a67-a0f6-4cc0-9942-74887e2b52cc",
   "metadata": {},
   "source": [
    "**Chọn MinMaxScaler để chuẩn hóa features**"
   ]
  },
  {
   "cell_type": "code",
   "execution_count": 26,
   "id": "78d2a4ba-80ca-4da0-a099-5ee8ae1e7acd",
   "metadata": {},
   "outputs": [],
   "source": [
    "from sklearn.preprocessing import MinMaxScaler\n",
    "from sklearn.metrics import recall_score, precision_score, f1_score, accuracy_score"
   ]
  },
  {
   "cell_type": "code",
   "execution_count": 27,
   "id": "04e07e7b-38e4-4664-a64f-44c8421dc7fb",
   "metadata": {},
   "outputs": [],
   "source": [
    "scaler=MinMaxScaler()\n",
    "new_df_arr = scaler.fit_transform(new_df)"
   ]
  },
  {
   "cell_type": "markdown",
   "id": "906336ee-16b3-4e06-a5c3-34f8721a451c",
   "metadata": {},
   "source": [
    "**Kiểm tra lại bộ dữ liệu xem có vấn đề gì sau khi chuẩn hóa không**"
   ]
  },
  {
   "cell_type": "markdown",
   "id": "0aa71369-3081-4aca-a0d2-fa9287e755fe",
   "metadata": {},
   "source": [
    "***Giá trị nhỏ nhất của 9 biến độc lập***"
   ]
  },
  {
   "cell_type": "code",
   "execution_count": 28,
   "id": "3bda8ccd-83ec-4708-a2e3-e2f3cf2a6ca1",
   "metadata": {},
   "outputs": [
    {
     "data": {
      "text/plain": [
       "array([0., 0., 0., 0., 0., 0., 0., 0., 0.])"
      ]
     },
     "execution_count": 28,
     "metadata": {},
     "output_type": "execute_result"
    }
   ],
   "source": [
    "new_df_arr.min(axis=0)"
   ]
  },
  {
   "cell_type": "markdown",
   "id": "3a513eba-7e8e-45b2-a3cb-5ad33f40491d",
   "metadata": {},
   "source": [
    "***Giá trị lớn nhất của 9 biến độc lập***"
   ]
  },
  {
   "cell_type": "code",
   "execution_count": 29,
   "id": "5e386830-6b5d-4720-8210-a4dc28dec54d",
   "metadata": {},
   "outputs": [
    {
     "data": {
      "text/plain": [
       "array([1., 1., 1., 1., 1., 1., 1., 1., 1.])"
      ]
     },
     "execution_count": 29,
     "metadata": {},
     "output_type": "execute_result"
    }
   ],
   "source": [
    "new_df_arr.max(axis=0)"
   ]
  },
  {
   "cell_type": "markdown",
   "id": "af560f43-27a9-4b9d-b180-9f7431d0d23b",
   "metadata": {},
   "source": [
    "**Nhận xét**\n",
    "- Các biến độc lập lúc này chỉ đi từ 0 đến 1 và không có giá trị na."
   ]
  },
  {
   "cell_type": "code",
   "execution_count": 30,
   "id": "2d7d7b05-0192-49d8-9ed6-c178725d8a28",
   "metadata": {},
   "outputs": [],
   "source": [
    "X_train, X_test, y_train, y_test = train_test_split(new_df_arr[:,1:],new_df_arr[:,0], test_size=0.15,\n",
    "                                                  shuffle=True, random_state=4)"
   ]
  },
  {
   "cell_type": "markdown",
   "id": "29af4cba-1ea9-406d-829f-2930e3fe0b42",
   "metadata": {},
   "source": [
    "**Đảm bảo số lượng dòng của X_train = y_train; X_test = y_test**"
   ]
  },
  {
   "cell_type": "code",
   "execution_count": 31,
   "id": "a658fa5a-bbe2-4522-a115-5396d76a87a0",
   "metadata": {},
   "outputs": [],
   "source": [
    "assert X_train.shape[0] == y_train.shape[0]\n",
    "assert X_test.shape[0] == y_test.shape[0]"
   ]
  },
  {
   "cell_type": "markdown",
   "id": "7191b3eb-9cf7-4176-a15e-bc5a28131cee",
   "metadata": {},
   "source": [
    "Nếu các dòng bằng nhau thì Python không trả về kết quả gì"
   ]
  },
  {
   "cell_type": "markdown",
   "id": "501df5a7-a527-4c1a-b123-167bbdf2233e",
   "metadata": {},
   "source": [
    "## Chaỵ vòng lặp cho các thuật toán Machine learning\n",
    "### Các thuật toán sử dụng bao gồm: hồi quy logistic, random forest, naive bayes, adaboost classifier, kneighbors classifer, gradient boosting"
   ]
  },
  {
   "cell_type": "code",
   "execution_count": 32,
   "id": "9c1afa9e-22f2-49fc-a3b9-c3268da2def1",
   "metadata": {},
   "outputs": [],
   "source": [
    "algos = {'logit':LogisticRegression(),\n",
    "         'rf':RandomForestClassifier(), \n",
    "         'bayes':BernoulliNB(), \n",
    "         'ada':AdaBoostClassifier(), \n",
    "         'knn':KNeighborsClassifier(),\n",
    "         'gradient_boosting': GradientBoostingClassifier()}"
   ]
  },
  {
   "cell_type": "code",
   "execution_count": 33,
   "id": "98e3ce37-1141-4099-81df-28c402b23b60",
   "metadata": {},
   "outputs": [
    {
     "data": {
      "text/html": [
       "<div>\n",
       "<style scoped>\n",
       "    .dataframe tbody tr th:only-of-type {\n",
       "        vertical-align: middle;\n",
       "    }\n",
       "\n",
       "    .dataframe tbody tr th {\n",
       "        vertical-align: top;\n",
       "    }\n",
       "\n",
       "    .dataframe thead th {\n",
       "        text-align: right;\n",
       "    }\n",
       "</style>\n",
       "<table border=\"1\" class=\"dataframe\">\n",
       "  <thead>\n",
       "    <tr style=\"text-align: right;\">\n",
       "      <th></th>\n",
       "      <th>logit</th>\n",
       "      <th>rf</th>\n",
       "      <th>bayes</th>\n",
       "      <th>ada</th>\n",
       "      <th>knn</th>\n",
       "      <th>gradient_boosting</th>\n",
       "    </tr>\n",
       "  </thead>\n",
       "  <tbody>\n",
       "    <tr>\n",
       "      <th>recall</th>\n",
       "      <td>1.563518</td>\n",
       "      <td>15.960912</td>\n",
       "      <td>12.442997</td>\n",
       "      <td>15.048860</td>\n",
       "      <td>10.618893</td>\n",
       "      <td>15.700326</td>\n",
       "    </tr>\n",
       "    <tr>\n",
       "      <th>precision</th>\n",
       "      <td>70.588235</td>\n",
       "      <td>54.083885</td>\n",
       "      <td>45.584726</td>\n",
       "      <td>51.333333</td>\n",
       "      <td>48.948949</td>\n",
       "      <td>57.244656</td>\n",
       "    </tr>\n",
       "    <tr>\n",
       "      <th>f1</th>\n",
       "      <td>3.059273</td>\n",
       "      <td>24.647887</td>\n",
       "      <td>19.549642</td>\n",
       "      <td>23.274559</td>\n",
       "      <td>17.451820</td>\n",
       "      <td>24.642127</td>\n",
       "    </tr>\n",
       "    <tr>\n",
       "      <th>accuracy</th>\n",
       "      <td>93.205271</td>\n",
       "      <td>93.308019</td>\n",
       "      <td>92.977440</td>\n",
       "      <td>93.196337</td>\n",
       "      <td>93.111459</td>\n",
       "      <td>93.415233</td>\n",
       "    </tr>\n",
       "  </tbody>\n",
       "</table>\n",
       "</div>"
      ],
      "text/plain": [
       "               logit         rf      bayes        ada        knn  \\\n",
       "recall      1.563518  15.960912  12.442997  15.048860  10.618893   \n",
       "precision  70.588235  54.083885  45.584726  51.333333  48.948949   \n",
       "f1          3.059273  24.647887  19.549642  23.274559  17.451820   \n",
       "accuracy   93.205271  93.308019  92.977440  93.196337  93.111459   \n",
       "\n",
       "           gradient_boosting  \n",
       "recall             15.700326  \n",
       "precision          57.244656  \n",
       "f1                 24.642127  \n",
       "accuracy           93.415233  "
      ]
     },
     "execution_count": 33,
     "metadata": {},
     "output_type": "execute_result"
    }
   ],
   "source": [
    "evaluation = {}\n",
    "for key in  algos:\n",
    "    ml = algos.get(key)\n",
    "    ml.fit(X_train,y_train)\n",
    "    evaluation.update({key:[recall_score(y_test, ml.predict(X_test)),\n",
    "                             precision_score(y_test, ml.predict(X_test)),\n",
    "                             f1_score(y_test, ml.predict(X_test)),\n",
    "                             accuracy_score(y_test, ml.predict(X_test))]})\n",
    "    \n",
    "results = pd.DataFrame(evaluation, index=['recall','precision','f1','accuracy']) * 100\n",
    "results"
   ]
  },
  {
   "cell_type": "markdown",
   "id": "b7cc8dc6-d5d4-490b-88a2-f1ca0f8ea9a6",
   "metadata": {},
   "source": [
    "Chúng ta có các xác suất dự báo vỡ nợ như sau:"
   ]
  },
  {
   "cell_type": "code",
   "execution_count": 34,
   "id": "b01dc605-2a4d-42b6-b489-c8033352c4f4",
   "metadata": {},
   "outputs": [
    {
     "data": {
      "text/plain": [
       "array([0.03322644, 0.03940447, 0.03970689, ..., 0.04995774, 0.01850717,\n",
       "       0.01670386])"
      ]
     },
     "execution_count": 34,
     "metadata": {},
     "output_type": "execute_result"
    }
   ],
   "source": [
    "ml.predict_proba(X_test)[:,1]"
   ]
  },
  {
   "cell_type": "markdown",
   "id": "ce4dbce2-9455-471e-b577-e3b0351a5e49",
   "metadata": {},
   "source": [
    "Tuy nhiên, máy mặc định lớn hơn 0.5 là vỡ nợ. Nhưng, trong thực tế, chúng ta muốn các xác suất này lớn hơn *thres* thì mới thực sự vỡ nợ."
   ]
  },
  {
   "cell_type": "code",
   "execution_count": 35,
   "id": "e5c6ea29-65c4-4ac4-9928-ca235ae33d64",
   "metadata": {},
   "outputs": [
    {
     "name": "stdout",
     "output_type": "stream",
     "text": [
      "              precision    recall  f1-score   support\n",
      "\n",
      "         0.0       0.94      1.00      0.97     20850\n",
      "         1.0       0.67      0.07      0.13      1535\n",
      "\n",
      "    accuracy                           0.93     22385\n",
      "   macro avg       0.80      0.53      0.55     22385\n",
      "weighted avg       0.92      0.93      0.91     22385\n",
      "\n"
     ]
    }
   ],
   "source": [
    "thres = 0.6\n",
    "print(classification_report(y_test,np.where(ml.predict_proba(X_test)[:,1] > thres,1,0)))"
   ]
  },
  {
   "cell_type": "code",
   "execution_count": 36,
   "id": "51280982-5fb7-4f63-8194-a7fb0ffcfa7f",
   "metadata": {},
   "outputs": [
    {
     "name": "stdout",
     "output_type": "stream",
     "text": [
      "              precision    recall  f1-score   support\n",
      "\n",
      "         0.0       0.93      1.00      0.96     20850\n",
      "         1.0       0.60      0.02      0.03      1535\n",
      "\n",
      "    accuracy                           0.93     22385\n",
      "   macro avg       0.77      0.51      0.50     22385\n",
      "weighted avg       0.91      0.93      0.90     22385\n",
      "\n"
     ]
    }
   ],
   "source": [
    "thres = 0.7\n",
    "print(classification_report(y_test,np.where(ml.predict_proba(X_test)[:,1] > thres,1,0)))"
   ]
  },
  {
   "cell_type": "markdown",
   "id": "f372e19a-066f-4e75-8352-a9d941f7a0a3",
   "metadata": {},
   "source": [
    "**Nhận xét:**\n",
    "- Khi thres càng cao thì giá trị *precision* và *recall* của [1] càng giảm do tính bất cân xứng giữa 2 nhóm [0] và [1] ngay từ đầu."
   ]
  }
 ],
 "metadata": {
  "kernelspec": {
   "display_name": "Python 3 (ipykernel)",
   "language": "python",
   "name": "python3"
  },
  "language_info": {
   "codemirror_mode": {
    "name": "ipython",
    "version": 3
   },
   "file_extension": ".py",
   "mimetype": "text/x-python",
   "name": "python",
   "nbconvert_exporter": "python",
   "pygments_lexer": "ipython3",
   "version": "3.9.12"
  }
 },
 "nbformat": 4,
 "nbformat_minor": 5
}
